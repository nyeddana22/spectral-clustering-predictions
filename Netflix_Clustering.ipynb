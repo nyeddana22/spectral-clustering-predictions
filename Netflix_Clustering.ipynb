{
 "cells": [
  {
   "cell_type": "code",
   "execution_count": null,
   "id": "ac17383b",
   "metadata": {},
   "outputs": [],
   "source": [
    "import pandas as pd\n",
    "import numpy as np\n",
    "import matplotlib.pyplot as plt\n",
    "from sklearn.cluster import SpectralClustering, KMeans\n",
    "from numpy.linalg import svd\n",
    "from scipy.linalg import sqrtm\n",
    "from scipy.sparse import csgraph\n",
    "from sklearn.metrics.pairwise import cosine_similarity\n",
    "from sklearn.model_selection import train_test_split"
   ]
  },
  {
   "cell_type": "code",
   "execution_count": null,
   "id": "8486c2c4",
   "metadata": {},
   "outputs": [],
   "source": [
    "user_ratings = pd.read_csv(r'/Users/niharika/Documents/Niharika/Third Quarter/ECS 271 ML/Assignment2/train.csv')\n",
    "user_ratings.head()"
   ]
  },
  {
   "cell_type": "code",
   "execution_count": null,
   "id": "1f538947",
   "metadata": {},
   "outputs": [],
   "source": [
    "test = pd.read_csv(r'/Users/niharika/Documents/Niharika/Third Quarter/ECS 271 ML/Assignment2/test.csv', header=None, names=['movie_id','customer_id','rating','date'])"
   ]
  },
  {
   "cell_type": "code",
   "execution_count": null,
   "id": "3267fd46",
   "metadata": {},
   "outputs": [],
   "source": [
    "movie_titles = pd.read_csv(r'/Users/niharika/Documents/Niharika/Third Quarter/ECS 271 ML/Assignment2/movie_titles.txt', sep=',', header=None, encoding=\"ISO-8859-1\", names=[\"movie_id\",\"date_produced\",\"title\"])\n",
    "movie_titles = movie_titles.iloc[1: , :]\n",
    "movie_titles = movie_titles.fillna('')\n",
    "movie_titles.head()\n",
    "# temp = pd.DataFrame(movie_titles['title1'] + movie_titles['test1'] + movie_titles['test2'])\n",
    "# temp.rename( columns={0:'title1'}, inplace=True )\n",
    "# temp"
   ]
  },
  {
   "cell_type": "code",
   "execution_count": null,
   "id": "c7a002bb",
   "metadata": {},
   "outputs": [],
   "source": [
    "# movie_titles1 = movie_titles.join(temp)\n",
    "# movie_titles1"
   ]
  },
  {
   "cell_type": "code",
   "execution_count": null,
   "id": "979fef83",
   "metadata": {},
   "outputs": [],
   "source": [
    "# mv_df = pd.DataFrame(movie_titles['movie_id'].astype(int))\n",
    "# mv_df"
   ]
  },
  {
   "cell_type": "code",
   "execution_count": null,
   "id": "cd2e2550",
   "metadata": {},
   "outputs": [],
   "source": [
    "mv_df = pd.DataFrame(movie_titles['movie_id'].astype(int).unique(),columns=['movie_id'])\n",
    "mv_df"
   ]
  },
  {
   "cell_type": "code",
   "execution_count": null,
   "id": "b0a08b4a",
   "metadata": {},
   "outputs": [],
   "source": [
    "cus_df = pd.DataFrame(user_ratings.customer_id.astype(int).unique(), columns=['customer_id'])\n",
    "cus_df"
   ]
  },
  {
   "cell_type": "code",
   "execution_count": null,
   "id": "7ca5e032",
   "metadata": {},
   "outputs": [],
   "source": [
    "train, test1 = train_test_split(user_ratings, test_size = 0.2)\n",
    "test1.shape"
   ]
  },
  {
   "cell_type": "code",
   "execution_count": null,
   "id": "3c0c0e32",
   "metadata": {},
   "outputs": [],
   "source": [
    "master = pd.merge(cus_df, mv_df, how = 'cross')\n",
    "master"
   ]
  },
  {
   "cell_type": "code",
   "execution_count": null,
   "id": "9f0d90b1",
   "metadata": {},
   "outputs": [],
   "source": [
    "new_master = pd.merge(master,user_ratings,on=[\"movie_id\",\"customer_id\"],how='left')\n",
    "new_master = new_master.drop_duplicates()\n",
    "new_master"
   ]
  },
  {
   "cell_type": "code",
   "execution_count": null,
   "id": "a29259a0",
   "metadata": {},
   "outputs": [],
   "source": [
    "cmr_matrix_1 = new_master[['customer_id','movie_id','rating']]"
   ]
  },
  {
   "cell_type": "code",
   "execution_count": null,
   "id": "5fe7dd5f",
   "metadata": {},
   "outputs": [],
   "source": [
    "del mv_df, cus_df, master, new_master, movie_titles, user_ratings"
   ]
  },
  {
   "cell_type": "code",
   "execution_count": null,
   "id": "bd4f6b67",
   "metadata": {},
   "outputs": [],
   "source": [
    "cmr_matrix = cmr_matrix_1.pivot(index = 'customer_id', columns ='movie_id', values = 'rating')\n",
    "cmr_matrix"
   ]
  },
  {
   "cell_type": "code",
   "execution_count": null,
   "id": "5ef92ee1",
   "metadata": {},
   "outputs": [],
   "source": [
    "users = list(cmr_matrix.index)\n",
    "users_index = {users[i]: i for i in range(len(users))}\n",
    "itemcols = list(cmr_matrix.columns)\n",
    "movie_index = {itemcols[i]: i for i in range(len(itemcols))}\n",
    "print(users_index, movie_index) "
   ]
  },
  {
   "cell_type": "code",
   "execution_count": null,
   "id": "0b81e082",
   "metadata": {},
   "outputs": [],
   "source": [
    "uMatrix = np.array(cmr_matrix)\n",
    "mask = np.isnan(uMatrix)\n",
    "masked = np.ma.masked_array(uMatrix, mask)\n",
    "item_means = np.mean(masked, axis=0)"
   ]
  },
  {
   "cell_type": "code",
   "execution_count": null,
   "id": "4ead3476",
   "metadata": {},
   "outputs": [],
   "source": [
    "uMatrix = masked.filled(item_means)\n",
    "uMatrix"
   ]
  },
  {
   "cell_type": "code",
   "execution_count": null,
   "id": "51eee0a1",
   "metadata": {},
   "outputs": [],
   "source": [
    "x = np.tile(item_means, (uMatrix.shape[0],1))\n",
    "uMatrix = uMatrix - x"
   ]
  },
  {
   "cell_type": "code",
   "execution_count": null,
   "id": "4eb6ec56",
   "metadata": {},
   "outputs": [],
   "source": [
    "u, s, vt = svd(uMatrix, full_matrices = False)"
   ]
  },
  {
   "cell_type": "code",
   "execution_count": null,
   "id": "725de31b",
   "metadata": {},
   "outputs": [],
   "source": [
    "print(s.shape,u.shape,vt.shape)"
   ]
  },
  {
   "cell_type": "code",
   "execution_count": null,
   "id": "98be99e8",
   "metadata": {},
   "outputs": [],
   "source": [
    "s = np.diag(s)"
   ]
  },
  {
   "cell_type": "code",
   "execution_count": null,
   "id": "5d97a9d0",
   "metadata": {},
   "outputs": [],
   "source": [
    "s=s[0:10,0:10]\n",
    "u=u[:,0:10]\n",
    "vt=vt[0:10,:]"
   ]
  },
  {
   "cell_type": "code",
   "execution_count": null,
   "id": "e563468f",
   "metadata": {},
   "outputs": [],
   "source": [
    "sRoot=sqrtm(s)"
   ]
  },
  {
   "cell_type": "code",
   "execution_count": null,
   "id": "7f046fe0",
   "metadata": {},
   "outputs": [],
   "source": [
    "Usk=np.dot(u,sRoot)\n",
    "skV=np.dot(sRoot,vt)\n",
    "UsV = np.dot(Usk, skV)\n",
    "UsV = UsV + x\n",
    "UsV"
   ]
  },
  {
   "cell_type": "code",
   "execution_count": null,
   "id": "33aa8515",
   "metadata": {},
   "outputs": [],
   "source": [
    "del uMatrix, mask, masked, item_means, Usk, skV, s, u, vt, x, sRoot"
   ]
  },
  {
   "cell_type": "code",
   "execution_count": null,
   "id": "4e8281e7",
   "metadata": {},
   "outputs": [],
   "source": [
    "for user, _ in cmr_matrix.iterrows():\n",
    "    for movie in itemcols:  \n",
    "        if user in users_index:        \n",
    "            u_index = users_index[user]\n",
    "            if movie in movie_index:\n",
    "                m_index = movie_index[movie]\n",
    "                pred_rating = UsV[u_index, m_index]\n",
    "            else:\n",
    "                print(\"Movie not found\")\n",
    "                pred_rating = np.mean(UsV[u_index, :])\n",
    "        else:\n",
    "            print(\"User not found\")\n",
    "            pred_rating = np.mean(UsV[:, m_index])\n",
    "        cmr_matrix.at[user,movie] = pred_rating\n",
    "print(cmr_matrix)"
   ]
  },
  {
   "cell_type": "code",
   "execution_count": null,
   "id": "d9865b9c",
   "metadata": {},
   "outputs": [],
   "source": [
    "cmr_matrix = cmr_matrix.apply(lambda row: row.fillna(row.mean()), axis=1)"
   ]
  },
  {
   "cell_type": "code",
   "execution_count": null,
   "id": "51eeb193",
   "metadata": {},
   "outputs": [],
   "source": [
    "pred = []\n",
    "\n",
    "for _,row in test1.iterrows():\n",
    "    user = row['customer_id']\n",
    "    movie = row['movie_id']\n",
    "    if user in users_index:\n",
    "        u_index = users_index[user]\n",
    "        if movie in movie_index:\n",
    "            m_index = movie_index[movie]\n",
    "            pred_rating = UsV[u_index, m_index]\n",
    "        else:\n",
    "            pred_rating = np.mean(UsV[u_index, :])\n",
    "\n",
    "    else:\n",
    "        pred_rating = np.mean(UsV[:, m_index])        \n",
    "    pred.append(pred_rating)\n",
    "\n",
    "print(mse(test1['rating'], pred))"
   ]
  },
  {
   "cell_type": "code",
   "execution_count": null,
   "id": "74d20657",
   "metadata": {},
   "outputs": [],
   "source": [
    "cmr = np.array(cmr_matrix)\n",
    "X = cosine_similarity(cmr)\n",
    "# np.save(r'Documents/user_pred_matrix.npy',cmr)"
   ]
  },
  {
   "cell_type": "code",
   "execution_count": null,
   "id": "35d729c6",
   "metadata": {},
   "outputs": [],
   "source": [
    "def eigenDecomposition(A, plot = True, topK = 5):\n",
    "\n",
    "    L = csgraph.laplacian(A, normed=True)\n",
    "    n_components = A.shape[0]\n",
    "    \n",
    "    # LM parameter : Eigenvalues with largest magnitude (eigs, eigsh), that is, largest eigenvalues in \n",
    "    # the euclidean norm of complex numbers.\n",
    "#     eigenvalues, eigenvectors = eigsh(L, k=n_components, which=\"LM\", sigma=1.0, maxiter=5000)\n",
    "    eigenvalues, eigenvectors = np.linalg.eig(L)\n",
    "        \n",
    "    # Identify the optimal number of clusters as the index corresponding\n",
    "    # to the larger gap between eigen values\n",
    "    index_largest_gap = np.argsort(np.diff(eigenvalues))[::-1][:topK]\n",
    "    nb_clusters = index_largest_gap + 1\n",
    "        \n",
    "    return nb_clusters, eigenvalues, eigenvectors"
   ]
  },
  {
   "cell_type": "code",
   "execution_count": null,
   "id": "84353c70",
   "metadata": {},
   "outputs": [],
   "source": [
    "k, evl,evc = eigenDecomposition(X)\n",
    "print(f'Optimal number of clusters {k}')"
   ]
  },
  {
   "cell_type": "code",
   "execution_count": null,
   "id": "87910bb7",
   "metadata": {
    "scrolled": true
   },
   "outputs": [],
   "source": [
    "n = 100\n",
    "\n",
    "sc=SpectralClustering(affinity='precomputed', n_clusters=n, n_components=10,random_state=25).fit(X)\n",
    "labels = sc.labels_\n",
    "labels\n",
    "# s1 = np.array(['#B7A4DA','#BFF5E5','#A6E1EA','#FCB8B8','#F2ECCE','#CC859A','#9EAEB2','#62A6BF','black','red','green'])\n",
    "# plt.scatter(cmr[:,0], cmr[:,1], c=labels,s=1)"
   ]
  },
  {
   "cell_type": "code",
   "execution_count": null,
   "id": "bd873bf5",
   "metadata": {},
   "outputs": [],
   "source": [
    "np.save(r'Documents/labels.npy',labels)"
   ]
  },
  {
   "cell_type": "code",
   "execution_count": null,
   "id": "d1364383",
   "metadata": {},
   "outputs": [],
   "source": [
    "labels = np.load(r'/Users/niharika/Downloads/idec_pred6.npy')"
   ]
  },
  {
   "cell_type": "code",
   "execution_count": null,
   "id": "2911a4c2",
   "metadata": {},
   "outputs": [],
   "source": [
    "uid_to_cluster = { key:value for key,value in zip( cmr_matrix.index, labels ) }\n",
    "cluster_to_uids = [[] for x in range(100)]\n",
    "for uid, cluster_no in uid_to_cluster.items():\n",
    "    cluster_to_uids[cluster_no].append(uid)"
   ]
  },
  {
   "cell_type": "code",
   "execution_count": null,
   "id": "7612cb90",
   "metadata": {},
   "outputs": [],
   "source": [
    "def estimate_rating(uid, mid):\n",
    "    temp = []\n",
    "    try:\n",
    "        uids = cluster_to_uids[uid_to_cluster[uid]]\n",
    "        u_indices = [users_index[x] for x in uids]\n",
    "    except KeyError:\n",
    "        return 3\n",
    "\n",
    "    try:\n",
    "        m_index = movie_index[mid]\n",
    "    except KeyError:\n",
    "        return 3\n",
    "    \n",
    "    for i in u_indices:\n",
    "        temp.append(cmr[i,m_index])\n",
    "#     print(temp,m_index)\n",
    "    average_rating = round(np.mean(temp))\n",
    "    return average_rating\n",
    "\n",
    "def mse(true, pred):\n",
    "    x = true - pred\n",
    "    return sum([xi*xi for xi in x])/len(x)"
   ]
  },
  {
   "cell_type": "code",
   "execution_count": null,
   "id": "7e4ba9b2",
   "metadata": {
    "scrolled": true
   },
   "outputs": [],
   "source": [
    "pred = []\n",
    "file = open(r'/Users/niharika/Documents/ratings_sc.txt','w')\n",
    "total = 0\n",
    "correct = 0\n",
    "for _,row in test.iterrows():\n",
    "    user = row['customer_id']\n",
    "    movie = row['movie_id']\n",
    "    pred_rating = estimate_rating(user,movie)\n",
    "    if pred_rating > 5:\n",
    "        pred_rating = 5\n",
    "    elif pred_rating < 1:\n",
    "        pred_rating = 1\n",
    "#     pred.append(pred_rating)   \n",
    "#     total += 1\n",
    "#     if pred_rating == row['rating']:\n",
    "#         correct += 1\n",
    "    file.write(str(pred_rating))\n",
    "    file.write('\\n')\n",
    "# print(pred)\n",
    "file.close()\n",
    "# print(mse(test1['rating'], pred), total, correct)"
   ]
  }
 ],
 "metadata": {
  "kernelspec": {
   "display_name": "Python 3 (ipykernel)",
   "language": "python",
   "name": "python3"
  },
  "language_info": {
   "codemirror_mode": {
    "name": "ipython",
    "version": 3
   },
   "file_extension": ".py",
   "mimetype": "text/x-python",
   "name": "python",
   "nbconvert_exporter": "python",
   "pygments_lexer": "ipython3",
   "version": "3.9.7"
  }
 },
 "nbformat": 4,
 "nbformat_minor": 5
}
